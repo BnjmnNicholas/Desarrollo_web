{
 "cells": [
  {
   "cell_type": "code",
   "execution_count": 5,
   "metadata": {},
   "outputs": [
    {
     "name": "stdout",
     "output_type": "stream",
     "text": [
      "{'Region Metropolitana': ['Cerrillos', 'Cerro Navia', 'Conchali'], 'Region del BioBio': ['ConcepciÃ³n', 'Coronel']}\n"
     ]
    }
   ],
   "source": [
    "import json\n",
    "\n",
    "with open('regiones-comunas.json') as f:\n",
    "    inputs = json.load(f)\n",
    "    \n",
    "print(inputs)\n",
    "    "
   ]
  }
 ],
 "metadata": {
  "kernelspec": {
   "display_name": "Python 3",
   "language": "python",
   "name": "python3"
  },
  "language_info": {
   "codemirror_mode": {
    "name": "ipython",
    "version": 3
   },
   "file_extension": ".py",
   "mimetype": "text/x-python",
   "name": "python",
   "nbconvert_exporter": "python",
   "pygments_lexer": "ipython3",
   "version": "3.11.4"
  },
  "orig_nbformat": 4
 },
 "nbformat": 4,
 "nbformat_minor": 2
}
